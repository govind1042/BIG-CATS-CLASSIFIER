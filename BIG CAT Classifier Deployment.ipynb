{
 "cells": [
  {
   "cell_type": "code",
   "execution_count": 1,
   "id": "retired-stupid",
   "metadata": {},
   "outputs": [],
   "source": [
    "import fastai\n",
    "from fastai import *\n",
    "from fastai.vision.all import *"
   ]
  },
  {
   "cell_type": "code",
   "execution_count": 3,
   "id": "recreational-accessory",
   "metadata": {},
   "outputs": [],
   "source": [
    "import fastbook\n",
    "from fastbook import *\n",
    "fastbook.setup_book()"
   ]
  },
  {
   "cell_type": "code",
   "execution_count": 4,
   "id": "looking-university",
   "metadata": {},
   "outputs": [
    {
     "data": {
      "text/plain": [
       "(#1) [Path('export.pkl')]"
      ]
     },
     "execution_count": 4,
     "metadata": {},
     "output_type": "execute_result"
    }
   ],
   "source": [
    "path=Path()\n",
    "path.ls(file_exts=\".pkl\")"
   ]
  },
  {
   "cell_type": "code",
   "execution_count": 7,
   "id": "mechanical-reaction",
   "metadata": {},
   "outputs": [],
   "source": [
    "learn_inf=load_learner(\"./export.pkl\")"
   ]
  },
  {
   "cell_type": "code",
   "execution_count": 6,
   "id": "faced-vocabulary",
   "metadata": {},
   "outputs": [],
   "source": [
    "import pathlib\n",
    "temp = pathlib.PosixPath\n",
    "pathlib.PosixPath = pathlib.WindowsPath"
   ]
  },
  {
   "cell_type": "code",
   "execution_count": 2,
   "id": "continued-testing",
   "metadata": {},
   "outputs": [
    {
     "data": {
      "text/plain": [
       "'2.4.1'"
      ]
     },
     "execution_count": 2,
     "metadata": {},
     "output_type": "execute_result"
    }
   ],
   "source": [
    "import fastai; \n",
    "fastai.__version__"
   ]
  },
  {
   "cell_type": "code",
   "execution_count": 11,
   "id": "suitable-movement",
   "metadata": {
    "collapsed": true
   },
   "outputs": [
    {
     "name": "stdout",
     "output_type": "stream",
     "text": [
      "Requirement already satisfied: fastai in c:\\users\\1042g\\appdata\\local\\programs\\python\\python38\\lib\\site-packages (2.2.6)\n",
      "Collecting fastai\n",
      "  Downloading fastai-2.4.1-py3-none-any.whl (188 kB)\n",
      "Requirement already satisfied: pip in c:\\users\\1042g\\appdata\\local\\programs\\python\\python38\\lib\\site-packages (from fastai) (21.1.2)\n",
      "Requirement already satisfied: torchvision>=0.8.2 in c:\\users\\1042g\\appdata\\local\\programs\\python\\python38\\lib\\site-packages (from fastai) (0.8.2+cpu)\n",
      "Requirement already satisfied: spacy<4 in c:\\users\\1042g\\appdata\\local\\programs\\python\\python38\\lib\\site-packages (from fastai) (2.3.5)\n",
      "Requirement already satisfied: scikit-learn in c:\\users\\1042g\\appdata\\local\\programs\\python\\python38\\lib\\site-packages (from fastai) (0.23.2)\n",
      "Requirement already satisfied: fastprogress>=0.2.4 in c:\\users\\1042g\\appdata\\local\\programs\\python\\python38\\lib\\site-packages (from fastai) (1.0.0)\n",
      "Requirement already satisfied: pyyaml in c:\\users\\1042g\\appdata\\local\\programs\\python\\python38\\lib\\site-packages (from fastai) (5.4.1)\n",
      "Requirement already satisfied: torch<1.10,>=1.7.0 in c:\\users\\1042g\\appdata\\local\\programs\\python\\python38\\lib\\site-packages (from fastai) (1.7.1+cpu)\n",
      "Requirement already satisfied: pillow>6.0.0 in c:\\users\\1042g\\appdata\\local\\programs\\python\\python38\\lib\\site-packages (from fastai) (8.1.0)\n",
      "Requirement already satisfied: requests in c:\\users\\1042g\\appdata\\local\\programs\\python\\python38\\lib\\site-packages (from fastai) (2.25.1)\n",
      "Requirement already satisfied: packaging in c:\\users\\1042g\\appdata\\local\\programs\\python\\python38\\lib\\site-packages (from fastai) (20.9)\n",
      "Requirement already satisfied: fastcore<1.4,>=1.3.8 in c:\\users\\1042g\\appdata\\local\\programs\\python\\python38\\lib\\site-packages (from fastai) (1.3.19)\n",
      "Requirement already satisfied: pandas in c:\\users\\1042g\\appdata\\local\\programs\\python\\python38\\lib\\site-packages (from fastai) (1.2.2)\n",
      "Requirement already satisfied: matplotlib in c:\\users\\1042g\\appdata\\local\\programs\\python\\python38\\lib\\site-packages (from fastai) (3.3.4)\n",
      "Requirement already satisfied: scipy in c:\\users\\1042g\\appdata\\local\\programs\\python\\python38\\lib\\site-packages (from fastai) (1.5.4)\n",
      "Requirement already satisfied: numpy in c:\\users\\1042g\\appdata\\local\\programs\\python\\python38\\lib\\site-packages (from fastprogress>=0.2.4->fastai) (1.19.5)\n",
      "Requirement already satisfied: preshed<3.1.0,>=3.0.2 in c:\\users\\1042g\\appdata\\local\\programs\\python\\python38\\lib\\site-packages (from spacy<4->fastai) (3.0.5)\n",
      "Requirement already satisfied: tqdm<5.0.0,>=4.38.0 in c:\\users\\1042g\\appdata\\local\\programs\\python\\python38\\lib\\site-packages (from spacy<4->fastai) (4.56.0)\n",
      "Requirement already satisfied: thinc<7.5.0,>=7.4.1 in c:\\users\\1042g\\appdata\\local\\programs\\python\\python38\\lib\\site-packages (from spacy<4->fastai) (7.4.5)\n",
      "Requirement already satisfied: wasabi<1.1.0,>=0.4.0 in c:\\users\\1042g\\appdata\\local\\programs\\python\\python38\\lib\\site-packages (from spacy<4->fastai) (0.8.2)\n",
      "Requirement already satisfied: plac<1.2.0,>=0.9.6 in c:\\users\\1042g\\appdata\\local\\programs\\python\\python38\\lib\\site-packages (from spacy<4->fastai) (1.1.3)\n",
      "Requirement already satisfied: murmurhash<1.1.0,>=0.28.0 in c:\\users\\1042g\\appdata\\local\\programs\\python\\python38\\lib\\site-packages (from spacy<4->fastai) (1.0.5)\n",
      "Requirement already satisfied: blis<0.8.0,>=0.4.0 in c:\\users\\1042g\\appdata\\local\\programs\\python\\python38\\lib\\site-packages (from spacy<4->fastai) (0.7.4)\n",
      "Requirement already satisfied: setuptools in c:\\users\\1042g\\appdata\\local\\programs\\python\\python38\\lib\\site-packages (from spacy<4->fastai) (57.0.0)\n",
      "Requirement already satisfied: srsly<1.1.0,>=1.0.2 in c:\\users\\1042g\\appdata\\local\\programs\\python\\python38\\lib\\site-packages (from spacy<4->fastai) (1.0.5)\n",
      "Requirement already satisfied: cymem<2.1.0,>=2.0.2 in c:\\users\\1042g\\appdata\\local\\programs\\python\\python38\\lib\\site-packages (from spacy<4->fastai) (2.0.5)\n",
      "Requirement already satisfied: catalogue<1.1.0,>=0.0.7 in c:\\users\\1042g\\appdata\\local\\programs\\python\\python38\\lib\\site-packages (from spacy<4->fastai) (1.0.0)\n",
      "Requirement already satisfied: idna<3,>=2.5 in c:\\users\\1042g\\appdata\\local\\programs\\python\\python38\\lib\\site-packages (from requests->fastai) (2.10)\n",
      "Requirement already satisfied: urllib3<1.27,>=1.21.1 in c:\\users\\1042g\\appdata\\local\\programs\\python\\python38\\lib\\site-packages (from requests->fastai) (1.26.3)\n",
      "Requirement already satisfied: chardet<5,>=3.0.2 in c:\\users\\1042g\\appdata\\local\\programs\\python\\python38\\lib\\site-packages (from requests->fastai) (4.0.0)\n",
      "Requirement already satisfied: certifi>=2017.4.17 in c:\\users\\1042g\\appdata\\local\\programs\\python\\python38\\lib\\site-packages (from requests->fastai) (2020.12.5)\n",
      "Requirement already satisfied: typing-extensions in c:\\users\\1042g\\appdata\\local\\programs\\python\\python38\\lib\\site-packages (from torch<1.10,>=1.7.0->fastai) (3.7.4.3)\n",
      "Requirement already satisfied: kiwisolver>=1.0.1 in c:\\users\\1042g\\appdata\\local\\programs\\python\\python38\\lib\\site-packages (from matplotlib->fastai) (1.3.1)\n",
      "Requirement already satisfied: pyparsing!=2.0.4,!=2.1.2,!=2.1.6,>=2.0.3 in c:\\users\\1042g\\appdata\\local\\programs\\python\\python38\\lib\\site-packages (from matplotlib->fastai) (2.4.7)\n",
      "Requirement already satisfied: cycler>=0.10 in c:\\users\\1042g\\appdata\\local\\programs\\python\\python38\\lib\\site-packages (from matplotlib->fastai) (0.10.0)\n",
      "Requirement already satisfied: python-dateutil>=2.1 in c:\\users\\1042g\\appdata\\local\\programs\\python\\python38\\lib\\site-packages (from matplotlib->fastai) (2.8.1)\n",
      "Requirement already satisfied: six in c:\\users\\1042g\\appdata\\local\\programs\\python\\python38\\lib\\site-packages (from cycler>=0.10->matplotlib->fastai) (1.15.0)\n",
      "Requirement already satisfied: pytz>=2017.3 in c:\\users\\1042g\\appdata\\local\\programs\\python\\python38\\lib\\site-packages (from pandas->fastai) (2021.1)\n",
      "Requirement already satisfied: joblib>=0.11 in c:\\users\\1042g\\appdata\\local\\programs\\python\\python38\\lib\\site-packages (from scikit-learn->fastai) (1.0.0)\n",
      "Requirement already satisfied: threadpoolctl>=2.0.0 in c:\\users\\1042g\\appdata\\local\\programs\\python\\python38\\lib\\site-packages (from scikit-learn->fastai) (2.1.0)\n",
      "Installing collected packages: fastai\n",
      "  Attempting uninstall: fastai\n",
      "    Found existing installation: fastai 2.2.6\n",
      "    Uninstalling fastai-2.2.6:\n",
      "      Successfully uninstalled fastai-2.2.6\n",
      "Successfully installed fastai-2.4.1\n"
     ]
    },
    {
     "name": "stderr",
     "output_type": "stream",
     "text": [
      "WARNING: You are using pip version 21.1.2; however, version 21.2.1 is available.\n",
      "You should consider upgrading via the 'c:\\users\\1042g\\appdata\\local\\programs\\python\\python38\\python.exe -m pip install --upgrade pip' command.\n"
     ]
    }
   ],
   "source": [
    "!pip install fastai --upgrade"
   ]
  },
  {
   "cell_type": "code",
   "execution_count": 9,
   "id": "speaking-mercury",
   "metadata": {},
   "outputs": [
    {
     "data": {
      "text/plain": [
       "'2.4.1'"
      ]
     },
     "execution_count": 9,
     "metadata": {},
     "output_type": "execute_result"
    }
   ],
   "source": [
    "import fastai; \n",
    "fastai.__version__"
   ]
  },
  {
   "cell_type": "code",
   "execution_count": 8,
   "id": "domestic-diana",
   "metadata": {},
   "outputs": [
    {
     "data": {
      "text/plain": [
       "'1.7.1+cpu'"
      ]
     },
     "execution_count": 8,
     "metadata": {},
     "output_type": "execute_result"
    }
   ],
   "source": [
    "torch.__version__"
   ]
  },
  {
   "cell_type": "code",
   "execution_count": 10,
   "id": "stylish-amazon",
   "metadata": {},
   "outputs": [
    {
     "data": {
      "text/plain": [
       "(#5) [Path('.ipynb_checkpoints'),Path('BIG CAT Classifier Deployment.ipynb'),Path('BIG CATS ORIGINAL'),Path('export.pkl'),Path('Untitled.ipynb')]"
      ]
     },
     "execution_count": 10,
     "metadata": {},
     "output_type": "execute_result"
    }
   ],
   "source": [
    "path.ls()"
   ]
  },
  {
   "cell_type": "code",
   "execution_count": 11,
   "id": "reserved-dancing",
   "metadata": {},
   "outputs": [
    {
     "data": {
      "text/plain": [
       "(#3) [Path('BIG CATS ORIGINAL/CHEETAH'),Path('BIG CATS ORIGINAL/JAGUAR'),Path('BIG CATS ORIGINAL/LEOPARD')]"
      ]
     },
     "execution_count": 11,
     "metadata": {},
     "output_type": "execute_result"
    }
   ],
   "source": [
    "(path/\"BIG CATS ORIGINAL\").ls()"
   ]
  },
  {
   "cell_type": "code",
   "execution_count": 12,
   "id": "indian-fleece",
   "metadata": {},
   "outputs": [
    {
     "data": {
      "text/plain": [
       "(#360) [Path('BIG CATS ORIGINAL/CHEETAH/CHEETAH1.JPG'),Path('BIG CATS ORIGINAL/CHEETAH/CHEETAH10.JPG'),Path('BIG CATS ORIGINAL/CHEETAH/CHEETAH100.JPG'),Path('BIG CATS ORIGINAL/CHEETAH/CHEETAH101.JPG'),Path('BIG CATS ORIGINAL/CHEETAH/CHEETAH102.JPG'),Path('BIG CATS ORIGINAL/CHEETAH/CHEETAH103.JPG'),Path('BIG CATS ORIGINAL/CHEETAH/CHEETAH104.JPG'),Path('BIG CATS ORIGINAL/CHEETAH/CHEETAH105.JPG'),Path('BIG CATS ORIGINAL/CHEETAH/CHEETAH106.JPG'),Path('BIG CATS ORIGINAL/CHEETAH/CHEETAH107.JPG')...]"
      ]
     },
     "execution_count": 12,
     "metadata": {},
     "output_type": "execute_result"
    }
   ],
   "source": [
    "(path/'BIG CATS ORIGINAL/CHEETAH').ls()"
   ]
  },
  {
   "cell_type": "code",
   "execution_count": 13,
   "id": "familiar-hepatitis",
   "metadata": {},
   "outputs": [
    {
     "data": {
      "text/html": [],
      "text/plain": [
       "<IPython.core.display.HTML object>"
      ]
     },
     "metadata": {},
     "output_type": "display_data"
    },
    {
     "data": {
      "text/plain": [
       "('CHEETAH', tensor(0), tensor([9.9994e-01, 2.0850e-07, 6.0664e-05]))"
      ]
     },
     "execution_count": 13,
     "metadata": {},
     "output_type": "execute_result"
    }
   ],
   "source": [
    "learn_inf.predict('BIG CATS ORIGINAL/CHEETAH/CHEETAH1.JPG')"
   ]
  },
  {
   "cell_type": "code",
   "execution_count": 45,
   "id": "working-practitioner",
   "metadata": {},
   "outputs": [
    {
     "data": {
      "text/plain": [
       "['CHEETAH', 'JAGUAR', 'LEOPARD']"
      ]
     },
     "execution_count": 45,
     "metadata": {},
     "output_type": "execute_result"
    }
   ],
   "source": [
    "learn_inf.dls.vocab\n"
   ]
  },
  {
   "cell_type": "code",
   "execution_count": 55,
   "id": "instrumental-portuguese",
   "metadata": {},
   "outputs": [
    {
     "data": {
      "application/vnd.jupyter.widget-view+json": {
       "model_id": "81cfc860a50345db8658c78982833d6a",
       "version_major": 2,
       "version_minor": 0
      },
      "text/plain": [
       "FileUpload(value={}, description='Upload')"
      ]
     },
     "metadata": {},
     "output_type": "display_data"
    }
   ],
   "source": [
    "btn_upload=widgets.FileUpload()\n",
    "btn_upload"
   ]
  },
  {
   "cell_type": "code",
   "execution_count": 56,
   "id": "allied-edinburgh",
   "metadata": {},
   "outputs": [
    {
     "ename": "IndexError",
     "evalue": "list index out of range",
     "output_type": "error",
     "traceback": [
      "\u001b[1;31m---------------------------------------------------------------------------\u001b[0m",
      "\u001b[1;31mIndexError\u001b[0m                                Traceback (most recent call last)",
      "\u001b[1;32m<ipython-input-56-452ff9e14ecc>\u001b[0m in \u001b[0;36m<module>\u001b[1;34m\u001b[0m\n\u001b[1;32m----> 1\u001b[1;33m \u001b[0mimg\u001b[0m\u001b[1;33m=\u001b[0m\u001b[0mPILImage\u001b[0m\u001b[1;33m.\u001b[0m\u001b[0mcreate\u001b[0m\u001b[1;33m(\u001b[0m\u001b[0mbtn_upload\u001b[0m\u001b[1;33m.\u001b[0m\u001b[0mdata\u001b[0m\u001b[1;33m[\u001b[0m\u001b[1;33m-\u001b[0m\u001b[1;36m1\u001b[0m\u001b[1;33m]\u001b[0m\u001b[1;33m)\u001b[0m\u001b[1;33m\u001b[0m\u001b[1;33m\u001b[0m\u001b[0m\n\u001b[0m\u001b[0;32m      2\u001b[0m \u001b[0mimg\u001b[0m\u001b[1;33m\u001b[0m\u001b[1;33m\u001b[0m\u001b[0m\n",
      "\u001b[1;31mIndexError\u001b[0m: list index out of range"
     ]
    }
   ],
   "source": [
    "img=PILImage.create(btn_upload.data[-1])\n",
    "img"
   ]
  },
  {
   "cell_type": "code",
   "execution_count": 57,
   "id": "separated-cursor",
   "metadata": {},
   "outputs": [
    {
     "data": {
      "application/vnd.jupyter.widget-view+json": {
       "model_id": "a0c8b13192e24c27aa653548cb8a1e48",
       "version_major": 2,
       "version_minor": 0
      },
      "text/plain": [
       "Output()"
      ]
     },
     "metadata": {},
     "output_type": "display_data"
    }
   ],
   "source": [
    "output_pl=widgets.Output()\n",
    "output_pl.clear_output()\n",
    "with output_pl:display(img.to_thumb(128,128))\n",
    "output_pl"
   ]
  },
  {
   "cell_type": "code",
   "execution_count": 58,
   "id": "critical-clark",
   "metadata": {},
   "outputs": [
    {
     "data": {
      "text/html": [],
      "text/plain": [
       "<IPython.core.display.HTML object>"
      ]
     },
     "metadata": {},
     "output_type": "display_data"
    }
   ],
   "source": [
    "prediction,prediction_idx,probability=learn_inf.predict(img)"
   ]
  },
  {
   "cell_type": "code",
   "execution_count": 59,
   "id": "latest-survival",
   "metadata": {},
   "outputs": [
    {
     "data": {
      "application/vnd.jupyter.widget-view+json": {
       "model_id": "d597b748b91143b6bd1609fb69edd169",
       "version_major": 2,
       "version_minor": 0
      },
      "text/plain": [
       "Label(value='Prediction :LEOPARD;  Probability :0.7705')"
      ]
     },
     "metadata": {},
     "output_type": "display_data"
    }
   ],
   "source": [
    "label_pl=widgets.Label()\n",
    "label_pl.value=f\"Prediction :{prediction};  Probability :{probability[prediction_idx]:.04f}\"\n",
    "label_pl"
   ]
  },
  {
   "cell_type": "code",
   "execution_count": 60,
   "id": "trying-music",
   "metadata": {},
   "outputs": [
    {
     "data": {
      "application/vnd.jupyter.widget-view+json": {
       "model_id": "f734b9cf2f4d4056b78b607577f346fb",
       "version_major": 2,
       "version_minor": 0
      },
      "text/plain": [
       "Button(description='Classify', style=ButtonStyle())"
      ]
     },
     "metadata": {},
     "output_type": "display_data"
    }
   ],
   "source": [
    "btn_run=widgets.Button(description=\"Classify\")\n",
    "btn_run"
   ]
  },
  {
   "cell_type": "code",
   "execution_count": 61,
   "id": "bottom-front",
   "metadata": {},
   "outputs": [],
   "source": [
    "def on_click_classify(change):\n",
    "    img=PILImage.create(btn_upload.data[-1])\n",
    "    output_pl.clear_output()\n",
    "    with output_pl:display(img.to_thumb(128,128))\n",
    "    prediction,prediction_idx,probability=learn_inf.predict(img)\n",
    "    label_pl.value=f\"Prediction :{prediction};  Probability :{probability[prediction_idx]:.04f}\""
   ]
  },
  {
   "cell_type": "code",
   "execution_count": 62,
   "id": "delayed-equipment",
   "metadata": {},
   "outputs": [],
   "source": [
    "btn_run.on_click(on_click_classify)"
   ]
  },
  {
   "cell_type": "code",
   "execution_count": 63,
   "id": "curious-ancient",
   "metadata": {},
   "outputs": [
    {
     "data": {
      "application/vnd.jupyter.widget-view+json": {
       "model_id": "067e35c290374c7ebe8ad11c17b1ffa9",
       "version_major": 2,
       "version_minor": 0
      },
      "text/plain": [
       "VBox(children=(Label(value='Select your image'), FileUpload(value={}, description='Upload'), Button(descriptio…"
      ]
     },
     "metadata": {},
     "output_type": "display_data"
    },
    {
     "data": {
      "text/html": [],
      "text/plain": [
       "<IPython.core.display.HTML object>"
      ]
     },
     "metadata": {},
     "output_type": "display_data"
    },
    {
     "data": {
      "text/html": [],
      "text/plain": [
       "<IPython.core.display.HTML object>"
      ]
     },
     "metadata": {},
     "output_type": "display_data"
    },
    {
     "data": {
      "text/html": [],
      "text/plain": [
       "<IPython.core.display.HTML object>"
      ]
     },
     "metadata": {},
     "output_type": "display_data"
    }
   ],
   "source": [
    "VBox([widgets.Label(\"Select your image\"),\n",
    "     btn_upload,btn_run,output_pl,label_pl])"
   ]
  },
  {
   "cell_type": "code",
   "execution_count": 41,
   "id": "discrete-emission",
   "metadata": {},
   "outputs": [],
   "source": [
    "output_pl.clear_output()"
   ]
  },
  {
   "cell_type": "code",
   "execution_count": 38,
   "id": "naughty-southwest",
   "metadata": {},
   "outputs": [],
   "source": [
    "from ipywidgets import *"
   ]
  },
  {
   "cell_type": "code",
   "execution_count": null,
   "id": "different-discretion",
   "metadata": {},
   "outputs": [],
   "source": []
  }
 ],
 "metadata": {
  "kernelspec": {
   "display_name": "Python 3",
   "language": "python",
   "name": "python3"
  },
  "language_info": {
   "codemirror_mode": {
    "name": "ipython",
    "version": 3
   },
   "file_extension": ".py",
   "mimetype": "text/x-python",
   "name": "python",
   "nbconvert_exporter": "python",
   "pygments_lexer": "ipython3",
   "version": "3.8.2"
  }
 },
 "nbformat": 4,
 "nbformat_minor": 5
}
